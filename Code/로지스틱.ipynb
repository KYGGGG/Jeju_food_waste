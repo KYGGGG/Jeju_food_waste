{
 "cells": [
  {
   "cell_type": "code",
   "execution_count": 34,
   "metadata": {},
   "outputs": [],
   "source": [
    "import pandas as pd\n",
    "import numpy as np\n",
    "from sklearn.datasets import load_iris\n",
    "from sklearn.model_selection import train_test_split\n",
    "import os\n",
    "import matplotlib.pyplot as plt\n",
    "\n",
    "if os.name == 'posix':\n",
    "\n",
    "    plt.rc(\"font\", family=\"AppleGothic\")\n",
    "\n",
    "else :\n",
    "    plt.rc(\"font\", family=\"Malgun Gothic\")"
   ]
  },
  {
   "cell_type": "code",
   "execution_count": 35,
   "metadata": {},
   "outputs": [],
   "source": [
    "df = pd.read_csv(\"C://Users/zihyu/Desktop/새 폴더 (4)/최종4.csv\", encoding = 'cp949')"
   ]
  },
  {
   "cell_type": "code",
   "execution_count": 36,
   "metadata": {},
   "outputs": [],
   "source": [
    "df['base_month'] = df['base_month'].astype(str)"
   ]
  },
  {
   "cell_type": "code",
   "execution_count": 126,
   "metadata": {},
   "outputs": [],
   "source": [
    "df['em_t_band'] = pd.cut(df['em_t'], bins = [0, 80, 300.55], labels=[0,1])"
   ]
  },
  {
   "cell_type": "code",
   "execution_count": 127,
   "metadata": {},
   "outputs": [
    {
     "data": {
      "text/html": [
       "<div>\n",
       "<style scoped>\n",
       "    .dataframe tbody tr th:only-of-type {\n",
       "        vertical-align: middle;\n",
       "    }\n",
       "\n",
       "    .dataframe tbody tr th {\n",
       "        vertical-align: top;\n",
       "    }\n",
       "\n",
       "    .dataframe thead th {\n",
       "        text-align: right;\n",
       "    }\n",
       "</style>\n",
       "<table border=\"1\" class=\"dataframe\">\n",
       "  <thead>\n",
       "    <tr style=\"text-align: right;\">\n",
       "      <th></th>\n",
       "      <th>em_t</th>\n",
       "      <th>base_month</th>\n",
       "      <th>emd_nm</th>\n",
       "      <th>area</th>\n",
       "      <th>em_area_cd_cnt</th>\n",
       "      <th>resid_reg_pop</th>\n",
       "      <th>foreign_pop</th>\n",
       "      <th>d_visit_pop_cnt</th>\n",
       "      <th>l_visit_pop_cnt</th>\n",
       "      <th>s_visit_pop_cnt</th>\n",
       "      <th>pre_mm</th>\n",
       "      <th>em_t_band</th>\n",
       "    </tr>\n",
       "  </thead>\n",
       "  <tbody>\n",
       "    <tr>\n",
       "      <th>0</th>\n",
       "      <td>43.58</td>\n",
       "      <td>1</td>\n",
       "      <td>0</td>\n",
       "      <td>2.53</td>\n",
       "      <td>30</td>\n",
       "      <td>9394.50</td>\n",
       "      <td>246.25</td>\n",
       "      <td>25742.09</td>\n",
       "      <td>819.21</td>\n",
       "      <td>515.95</td>\n",
       "      <td>85.3</td>\n",
       "      <td>0</td>\n",
       "    </tr>\n",
       "    <tr>\n",
       "      <th>1</th>\n",
       "      <td>11.55</td>\n",
       "      <td>1</td>\n",
       "      <td>1</td>\n",
       "      <td>185.93</td>\n",
       "      <td>104</td>\n",
       "      <td>15552.25</td>\n",
       "      <td>600.75</td>\n",
       "      <td>27391.16</td>\n",
       "      <td>739.62</td>\n",
       "      <td>256.40</td>\n",
       "      <td>59.8</td>\n",
       "      <td>0</td>\n",
       "    </tr>\n",
       "    <tr>\n",
       "      <th>2</th>\n",
       "      <td>53.27</td>\n",
       "      <td>1</td>\n",
       "      <td>2</td>\n",
       "      <td>188.71</td>\n",
       "      <td>51</td>\n",
       "      <td>18941.00</td>\n",
       "      <td>720.75</td>\n",
       "      <td>30383.79</td>\n",
       "      <td>1325.47</td>\n",
       "      <td>785.10</td>\n",
       "      <td>69.9</td>\n",
       "      <td>0</td>\n",
       "    </tr>\n",
       "    <tr>\n",
       "      <th>3</th>\n",
       "      <td>251.83</td>\n",
       "      <td>1</td>\n",
       "      <td>3</td>\n",
       "      <td>45.21</td>\n",
       "      <td>161</td>\n",
       "      <td>54146.00</td>\n",
       "      <td>2079.50</td>\n",
       "      <td>80644.43</td>\n",
       "      <td>2537.05</td>\n",
       "      <td>1758.83</td>\n",
       "      <td>79.2</td>\n",
       "      <td>1</td>\n",
       "    </tr>\n",
       "    <tr>\n",
       "      <th>4</th>\n",
       "      <td>52.89</td>\n",
       "      <td>1</td>\n",
       "      <td>4</td>\n",
       "      <td>22.24</td>\n",
       "      <td>36</td>\n",
       "      <td>14229.75</td>\n",
       "      <td>199.75</td>\n",
       "      <td>33917.93</td>\n",
       "      <td>704.69</td>\n",
       "      <td>243.59</td>\n",
       "      <td>70.8</td>\n",
       "      <td>0</td>\n",
       "    </tr>\n",
       "    <tr>\n",
       "      <th>...</th>\n",
       "      <td>...</td>\n",
       "      <td>...</td>\n",
       "      <td>...</td>\n",
       "      <td>...</td>\n",
       "      <td>...</td>\n",
       "      <td>...</td>\n",
       "      <td>...</td>\n",
       "      <td>...</td>\n",
       "      <td>...</td>\n",
       "      <td>...</td>\n",
       "      <td>...</td>\n",
       "      <td>...</td>\n",
       "    </tr>\n",
       "    <tr>\n",
       "      <th>453</th>\n",
       "      <td>23.30</td>\n",
       "      <td>12</td>\n",
       "      <td>35</td>\n",
       "      <td>135.16</td>\n",
       "      <td>47</td>\n",
       "      <td>12327.67</td>\n",
       "      <td>418.00</td>\n",
       "      <td>15578.40</td>\n",
       "      <td>425.34</td>\n",
       "      <td>347.10</td>\n",
       "      <td>64.4</td>\n",
       "      <td>0</td>\n",
       "    </tr>\n",
       "    <tr>\n",
       "      <th>454</th>\n",
       "      <td>7.56</td>\n",
       "      <td>12</td>\n",
       "      <td>36</td>\n",
       "      <td>79.10</td>\n",
       "      <td>70</td>\n",
       "      <td>9051.67</td>\n",
       "      <td>373.00</td>\n",
       "      <td>8687.56</td>\n",
       "      <td>413.23</td>\n",
       "      <td>80.90</td>\n",
       "      <td>51.4</td>\n",
       "      <td>0</td>\n",
       "    </tr>\n",
       "    <tr>\n",
       "      <th>455</th>\n",
       "      <td>32.50</td>\n",
       "      <td>12</td>\n",
       "      <td>37</td>\n",
       "      <td>91.09</td>\n",
       "      <td>110</td>\n",
       "      <td>21307.67</td>\n",
       "      <td>3589.67</td>\n",
       "      <td>22104.18</td>\n",
       "      <td>1549.58</td>\n",
       "      <td>362.10</td>\n",
       "      <td>60.7</td>\n",
       "      <td>0</td>\n",
       "    </tr>\n",
       "    <tr>\n",
       "      <th>456</th>\n",
       "      <td>113.14</td>\n",
       "      <td>12</td>\n",
       "      <td>38</td>\n",
       "      <td>8.29</td>\n",
       "      <td>74</td>\n",
       "      <td>24765.33</td>\n",
       "      <td>395.00</td>\n",
       "      <td>27358.73</td>\n",
       "      <td>250.39</td>\n",
       "      <td>35.78</td>\n",
       "      <td>58.0</td>\n",
       "      <td>1</td>\n",
       "    </tr>\n",
       "    <tr>\n",
       "      <th>457</th>\n",
       "      <td>15.25</td>\n",
       "      <td>12</td>\n",
       "      <td>39</td>\n",
       "      <td>6.60</td>\n",
       "      <td>20</td>\n",
       "      <td>5274.00</td>\n",
       "      <td>77.67</td>\n",
       "      <td>5091.10</td>\n",
       "      <td>109.71</td>\n",
       "      <td>26.14</td>\n",
       "      <td>64.1</td>\n",
       "      <td>0</td>\n",
       "    </tr>\n",
       "  </tbody>\n",
       "</table>\n",
       "<p>458 rows × 12 columns</p>\n",
       "</div>"
      ],
      "text/plain": [
       "       em_t  base_month  emd_nm    area  em_area_cd_cnt  resid_reg_pop  \\\n",
       "0     43.58           1       0    2.53              30        9394.50   \n",
       "1     11.55           1       1  185.93             104       15552.25   \n",
       "2     53.27           1       2  188.71              51       18941.00   \n",
       "3    251.83           1       3   45.21             161       54146.00   \n",
       "4     52.89           1       4   22.24              36       14229.75   \n",
       "..      ...         ...     ...     ...             ...            ...   \n",
       "453   23.30          12      35  135.16              47       12327.67   \n",
       "454    7.56          12      36   79.10              70        9051.67   \n",
       "455   32.50          12      37   91.09             110       21307.67   \n",
       "456  113.14          12      38    8.29              74       24765.33   \n",
       "457   15.25          12      39    6.60              20        5274.00   \n",
       "\n",
       "     foreign_pop  d_visit_pop_cnt  l_visit_pop_cnt  s_visit_pop_cnt  pre_mm  \\\n",
       "0         246.25         25742.09           819.21           515.95    85.3   \n",
       "1         600.75         27391.16           739.62           256.40    59.8   \n",
       "2         720.75         30383.79          1325.47           785.10    69.9   \n",
       "3        2079.50         80644.43          2537.05          1758.83    79.2   \n",
       "4         199.75         33917.93           704.69           243.59    70.8   \n",
       "..           ...              ...              ...              ...     ...   \n",
       "453       418.00         15578.40           425.34           347.10    64.4   \n",
       "454       373.00          8687.56           413.23            80.90    51.4   \n",
       "455      3589.67         22104.18          1549.58           362.10    60.7   \n",
       "456       395.00         27358.73           250.39            35.78    58.0   \n",
       "457        77.67          5091.10           109.71            26.14    64.1   \n",
       "\n",
       "    em_t_band  \n",
       "0           0  \n",
       "1           0  \n",
       "2           0  \n",
       "3           1  \n",
       "4           0  \n",
       "..        ...  \n",
       "453         0  \n",
       "454         0  \n",
       "455         0  \n",
       "456         1  \n",
       "457         0  \n",
       "\n",
       "[458 rows x 12 columns]"
      ]
     },
     "execution_count": 127,
     "metadata": {},
     "output_type": "execute_result"
    }
   ],
   "source": [
    "from sklearn.preprocessing import LabelEncoder\n",
    "\n",
    "le = LabelEncoder()\n",
    "df['emd_nm'] = le.fit_transform(df['emd_nm'])\n",
    "df['base_month'] = df['base_month'].astype(int)\n",
    "\n",
    "df"
   ]
  },
  {
   "cell_type": "code",
   "execution_count": 128,
   "metadata": {},
   "outputs": [],
   "source": [
    "X = df.iloc[:,1:11]\n",
    "Y = df.iloc[:,-1]"
   ]
  },
  {
   "cell_type": "code",
   "execution_count": 129,
   "metadata": {},
   "outputs": [],
   "source": [
    "from sklearn.preprocessing import StandardScaler\n",
    "scaler = StandardScaler()\n",
    "X = scaler.fit_transform(X)"
   ]
  },
  {
   "cell_type": "code",
   "execution_count": 130,
   "metadata": {},
   "outputs": [],
   "source": [
    "from sklearn.model_selection import train_test_split\n",
    "X_train, X_test, Y_train, Y_test = train_test_split(X, Y, test_size=0.2, shuffle=True, random_state=1004)"
   ]
  },
  {
   "cell_type": "code",
   "execution_count": 131,
   "metadata": {},
   "outputs": [
    {
     "data": {
      "text/plain": [
       "array([[ 0.42487418, -1.24434356,  0.66757754, ...,  2.05630714,\n",
       "        -0.45253038,  0.72460828],\n",
       "       [ 1.00401815,  0.72617885, -0.77784975, ..., -0.74677913,\n",
       "        -0.63391329,  0.43344698],\n",
       "       [-0.44384178, -0.73029424, -0.76861969, ..., -0.39528557,\n",
       "         0.53197495, -0.84252457],\n",
       "       ...,\n",
       "       [-1.60212972,  1.24022818, -0.75828202, ..., -0.72597063,\n",
       "        -0.54823569, -0.79304618],\n",
       "       [-1.60212972, -0.73029424, -0.76861969, ..., -0.4739644 ,\n",
       "         0.56522813, -0.59989016],\n",
       "       [-1.60212972, -1.50136823,  2.6996674 , ...,  1.144526  ,\n",
       "         0.88346231, -0.74642232]])"
      ]
     },
     "execution_count": 131,
     "metadata": {},
     "output_type": "execute_result"
    }
   ],
   "source": [
    "X_train"
   ]
  },
  {
   "cell_type": "code",
   "execution_count": 132,
   "metadata": {},
   "outputs": [
    {
     "data": {
      "text/plain": [
       "LogisticRegression()"
      ]
     },
     "execution_count": 132,
     "metadata": {},
     "output_type": "execute_result"
    }
   ],
   "source": [
    "from sklearn.linear_model import LogisticRegression\n",
    "\n",
    "model = LogisticRegression()\n",
    "model.fit(X_train, Y_train)"
   ]
  },
  {
   "cell_type": "code",
   "execution_count": 133,
   "metadata": {},
   "outputs": [
    {
     "name": "stdout",
     "output_type": "stream",
     "text": [
      "0.9863387978142076\n"
     ]
    }
   ],
   "source": [
    "print(model.score(X_train, Y_train))"
   ]
  },
  {
   "cell_type": "code",
   "execution_count": 135,
   "metadata": {
    "scrolled": true
   },
   "outputs": [
    {
     "name": "stdout",
     "output_type": "stream",
     "text": [
      "           0         1\n",
      "0   0.999184  0.000816\n",
      "1   0.918365  0.081635\n",
      "2   0.987313  0.012687\n",
      "3   0.993726  0.006274\n",
      "4   0.180268  0.819732\n",
      "..       ...       ...\n",
      "87  0.994207  0.005793\n",
      "88  0.998810  0.001190\n",
      "89  0.976793  0.023207\n",
      "90  0.904321  0.095679\n",
      "91  0.997183  0.002817\n",
      "\n",
      "[92 rows x 2 columns]\n"
     ]
    }
   ],
   "source": [
    "predict = model.predict_proba(X_test)\n",
    "predict = pd.DataFrame(predict)\n",
    "print(predict)"
   ]
  },
  {
   "cell_type": "code",
   "execution_count": null,
   "metadata": {},
   "outputs": [],
   "source": []
  }
 ],
 "metadata": {
  "kernelspec": {
   "display_name": "Python 3",
   "language": "python",
   "name": "python3"
  },
  "language_info": {
   "codemirror_mode": {
    "name": "ipython",
    "version": 3
   },
   "file_extension": ".py",
   "mimetype": "text/x-python",
   "name": "python",
   "nbconvert_exporter": "python",
   "pygments_lexer": "ipython3",
   "version": "3.8.3"
  }
 },
 "nbformat": 4,
 "nbformat_minor": 4
}
